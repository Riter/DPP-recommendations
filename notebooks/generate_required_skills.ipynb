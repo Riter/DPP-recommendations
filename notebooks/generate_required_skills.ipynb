{
 "cells": [
  {
   "cell_type": "code",
   "execution_count": 1,
   "metadata": {},
   "outputs": [],
   "source": [
    "import json\n",
    "import pandas as pd\n",
    "import numpy as np\n",
    "\n",
    "from openai import OpenAI"
   ]
  },
  {
   "cell_type": "code",
   "execution_count": 12,
   "metadata": {},
   "outputs": [],
   "source": [
    "df = pd.read_csv('../data/historical_data.csv')"
   ]
  },
  {
   "cell_type": "code",
   "execution_count": 13,
   "metadata": {},
   "outputs": [],
   "source": [
    "df_cleaned = df[df[\"topic_description\"].notna() & (df[\"topic_description\"].str.strip() != \"\")]"
   ]
  },
  {
   "cell_type": "code",
   "execution_count": 14,
   "metadata": {},
   "outputs": [],
   "source": [
    "unique_cases = df_cleaned[[\"topic_title\", \"topic_description\"]].drop_duplicates()\n",
    "\n",
    "unique_cases = unique_cases.reset_index(drop=True)\n",
    "\n",
    "unique_cases.rename(columns={\"topic_title\": \"case_title\", \"topic_description\": \"case_description\"}, inplace=True)"
   ]
  },
  {
   "cell_type": "markdown",
   "metadata": {},
   "source": [
    "Очищу вручную данные в экселе"
   ]
  },
  {
   "cell_type": "code",
   "execution_count": 45,
   "metadata": {},
   "outputs": [],
   "source": [
    "unique_cases.to_excel('cases.xlsx', index=False)"
   ]
  },
  {
   "cell_type": "code",
   "execution_count": 2,
   "metadata": {},
   "outputs": [],
   "source": [
    "unique_cases = pd.read_excel('cases.xlsx')"
   ]
  },
  {
   "cell_type": "code",
   "execution_count": 5,
   "metadata": {},
   "outputs": [],
   "source": [
    "client = OpenAI(\n",
    "    api_key=\"sk-lpIBtFRXrvF8sDPBQ3lB8rTQtszRRVwj\",\n",
    "    base_url=\"https://api.proxyapi.ru/openai/v1\",\n",
    ")"
   ]
  },
  {
   "cell_type": "code",
   "execution_count": 6,
   "metadata": {},
   "outputs": [],
   "source": [
    "def generate_required_roles(case_title, case_description):\n",
    "    system_prompt = \"\"\"\n",
    "    У меня есть датасет кейсов с полями case_title, case_description. Мне нужно к каждому кейсу добавить поле required_roles с необходимыми ролями для выполнения кейса.\n",
    "    Ниже представлен список ролей, которые могут быть необходимы в кейсах:\n",
    "    - Java Backend\n",
    "    - C# Backend\n",
    "    - Go Backend\n",
    "    - Python Backend\n",
    "    - C++ Backend\n",
    "    - Frontend\n",
    "    - ML engineer\n",
    "    - DevOps\n",
    "    - Тестировщик\n",
    "    - Аналитик\n",
    "    - Дизайнер\n",
    "    - Инженер БПЛА\n",
    "    - CV engineer\n",
    "    - ML Ops Engineer\n",
    "    \n",
    "    Тебе необходимо написать только самые необходимые роли (обычно от 4 до 5 ролей, но может быть или больше или меньше).\n",
    "    \"\"\"\n",
    "    user_prompt = f\"\"\"\n",
    "    case_title: '{case_title}'\n",
    "    case_description: '{case_description}'\n",
    "    \n",
    "    В ответе напиши только роли, перечисляя их через запятую.\n",
    "    \"\"\"\n",
    "    try:\n",
    "        response = client.chat.completions.create(\n",
    "            model=\"gpt-4o-mini\",  # Update with the correct model name if needed\n",
    "            messages=[\n",
    "                {\"role\": \"system\", \"content\": system_prompt},\n",
    "                {\"role\": \"user\", \"content\": user_prompt},\n",
    "            ],\n",
    "            max_tokens=100,\n",
    "            temperature=0.5\n",
    "        )\n",
    "        roles = response.choices[0].message.content.strip()\n",
    "        return roles\n",
    "        # return roles.split(\"\\n\") if roles else []\n",
    "    except Exception as e:\n",
    "        print(f\"Error generating roles for case '{case_title}': {e}\")\n",
    "        return []\n",
    "    "
   ]
  },
  {
   "cell_type": "code",
   "execution_count": 7,
   "metadata": {},
   "outputs": [],
   "source": [
    "required_roles_list = []\n",
    "\n",
    "# Iterate through the rows of the DataFrame\n",
    "for index, row in unique_cases.iterrows():\n",
    "    roles = generate_required_roles(row[\"case_title\"], row[\"case_description\"])\n",
    "    required_roles_list.append(roles)"
   ]
  },
  {
   "cell_type": "code",
   "execution_count": 8,
   "metadata": {},
   "outputs": [],
   "source": [
    "unique_cases[\"required_roles\"] = required_roles_list"
   ]
  },
  {
   "cell_type": "code",
   "execution_count": 9,
   "metadata": {},
   "outputs": [
    {
     "data": {
      "text/html": [
       "<div>\n",
       "<style scoped>\n",
       "    .dataframe tbody tr th:only-of-type {\n",
       "        vertical-align: middle;\n",
       "    }\n",
       "\n",
       "    .dataframe tbody tr th {\n",
       "        vertical-align: top;\n",
       "    }\n",
       "\n",
       "    .dataframe thead th {\n",
       "        text-align: right;\n",
       "    }\n",
       "</style>\n",
       "<table border=\"1\" class=\"dataframe\">\n",
       "  <thead>\n",
       "    <tr style=\"text-align: right;\">\n",
       "      <th></th>\n",
       "      <th>case_title</th>\n",
       "      <th>case_description</th>\n",
       "      <th>required_roles</th>\n",
       "    </tr>\n",
       "  </thead>\n",
       "  <tbody>\n",
       "    <tr>\n",
       "      <th>0</th>\n",
       "      <td>Мультимодальный поиск по изображениям</td>\n",
       "      <td>Проект \"Мультимодальный поиск по изображениям\"...</td>\n",
       "      <td>ML engineer, Python Backend, DevOps, CV engine...</td>\n",
       "    </tr>\n",
       "    <tr>\n",
       "      <th>1</th>\n",
       "      <td>Оптимальное распределение задач на основе псих...</td>\n",
       "      <td>Результат проекта: Чат-бот, способный распреде...</td>\n",
       "      <td>ML engineer, Python Backend, Аналитик, Дизайне...</td>\n",
       "    </tr>\n",
       "    <tr>\n",
       "      <th>2</th>\n",
       "      <td>БАМ</td>\n",
       "      <td>Определение контура железной дороги БАМ на сп...</td>\n",
       "      <td>ML engineer, CV engineer, Python Backend, Тест...</td>\n",
       "    </tr>\n",
       "    <tr>\n",
       "      <th>3</th>\n",
       "      <td>Система автоматического анализа электронного д...</td>\n",
       "      <td>Требования: для анализа входящих неформазиован...</td>\n",
       "      <td>ML engineer, Python Backend, Тестировщик, Анал...</td>\n",
       "    </tr>\n",
       "    <tr>\n",
       "      <th>4</th>\n",
       "      <td>Анализ новостей для предсказания движения акци...</td>\n",
       "      <td>#### Цель Проекта\\n\\nРазработать систему анали...</td>\n",
       "      <td>ML engineer, Python Backend, Аналитик, Дизайне...</td>\n",
       "    </tr>\n",
       "    <tr>\n",
       "      <th>...</th>\n",
       "      <td>...</td>\n",
       "      <td>...</td>\n",
       "      <td>...</td>\n",
       "    </tr>\n",
       "    <tr>\n",
       "      <th>84</th>\n",
       "      <td>Применение сверточных нейронных сетей для сегм...</td>\n",
       "      <td>Этот проект фокусируется на использовании свер...</td>\n",
       "      <td>ML engineer, Python Backend, Аналитик, Дизайне...</td>\n",
       "    </tr>\n",
       "    <tr>\n",
       "      <th>85</th>\n",
       "      <td>Ледовая разведка в Карском море</td>\n",
       "      <td>Мониторинг ледников и ледовая разведка в Карск...</td>\n",
       "      <td>ML engineer, Python Backend, DevOps, Аналитик,...</td>\n",
       "    </tr>\n",
       "    <tr>\n",
       "      <th>86</th>\n",
       "      <td>Разработка концепта экспертной системы по пред...</td>\n",
       "      <td>Целевая аудитория: Авиационные технические отр...</td>\n",
       "      <td>Инженер БПЛА, ML engineer, Тестировщик, Аналит...</td>\n",
       "    </tr>\n",
       "    <tr>\n",
       "      <th>87</th>\n",
       "      <td>Формирование БД для Postgresql на основе ER-мо...</td>\n",
       "      <td>Нужно будет провести исследование существующих...</td>\n",
       "      <td>C++ Backend, Python Backend, Дизайнер, Аналити...</td>\n",
       "    </tr>\n",
       "    <tr>\n",
       "      <th>88</th>\n",
       "      <td>Расчет сбора, отведения и очистки поверхностно...</td>\n",
       "      <td>**Тип проекта (сервис, продукт, модель, алгори...</td>\n",
       "      <td>Аналитик, Python Backend, Дизайнер, Тестировщи...</td>\n",
       "    </tr>\n",
       "  </tbody>\n",
       "</table>\n",
       "<p>89 rows × 3 columns</p>\n",
       "</div>"
      ],
      "text/plain": [
       "                                           case_title  \\\n",
       "0               Мультимодальный поиск по изображениям   \n",
       "1   Оптимальное распределение задач на основе псих...   \n",
       "2                                                 БАМ   \n",
       "3   Система автоматического анализа электронного д...   \n",
       "4   Анализ новостей для предсказания движения акци...   \n",
       "..                                                ...   \n",
       "84  Применение сверточных нейронных сетей для сегм...   \n",
       "85                    Ледовая разведка в Карском море   \n",
       "86  Разработка концепта экспертной системы по пред...   \n",
       "87  Формирование БД для Postgresql на основе ER-мо...   \n",
       "88  Расчет сбора, отведения и очистки поверхностно...   \n",
       "\n",
       "                                     case_description  \\\n",
       "0   Проект \"Мультимодальный поиск по изображениям\"...   \n",
       "1   Результат проекта: Чат-бот, способный распреде...   \n",
       "2   Определение контура железной дороги БАМ на сп...   \n",
       "3   Требования: для анализа входящих неформазиован...   \n",
       "4   #### Цель Проекта\\n\\nРазработать систему анали...   \n",
       "..                                                ...   \n",
       "84  Этот проект фокусируется на использовании свер...   \n",
       "85  Мониторинг ледников и ледовая разведка в Карск...   \n",
       "86  Целевая аудитория: Авиационные технические отр...   \n",
       "87  Нужно будет провести исследование существующих...   \n",
       "88  **Тип проекта (сервис, продукт, модель, алгори...   \n",
       "\n",
       "                                       required_roles  \n",
       "0   ML engineer, Python Backend, DevOps, CV engine...  \n",
       "1   ML engineer, Python Backend, Аналитик, Дизайне...  \n",
       "2   ML engineer, CV engineer, Python Backend, Тест...  \n",
       "3   ML engineer, Python Backend, Тестировщик, Анал...  \n",
       "4   ML engineer, Python Backend, Аналитик, Дизайне...  \n",
       "..                                                ...  \n",
       "84  ML engineer, Python Backend, Аналитик, Дизайне...  \n",
       "85  ML engineer, Python Backend, DevOps, Аналитик,...  \n",
       "86  Инженер БПЛА, ML engineer, Тестировщик, Аналит...  \n",
       "87  C++ Backend, Python Backend, Дизайнер, Аналити...  \n",
       "88  Аналитик, Python Backend, Дизайнер, Тестировщи...  \n",
       "\n",
       "[89 rows x 3 columns]"
      ]
     },
     "execution_count": 9,
     "metadata": {},
     "output_type": "execute_result"
    }
   ],
   "source": [
    "unique_cases"
   ]
  },
  {
   "cell_type": "code",
   "execution_count": null,
   "metadata": {},
   "outputs": [],
   "source": [
    "unique_cases.to_csv('cleaned_cases_with_roles.csv', index=False)"
   ]
  },
  {
   "cell_type": "code",
   "execution_count": 16,
   "metadata": {},
   "outputs": [
    {
     "data": {
      "text/html": [
       "<div>\n",
       "<style scoped>\n",
       "    .dataframe tbody tr th:only-of-type {\n",
       "        vertical-align: middle;\n",
       "    }\n",
       "\n",
       "    .dataframe tbody tr th {\n",
       "        vertical-align: top;\n",
       "    }\n",
       "\n",
       "    .dataframe thead th {\n",
       "        text-align: right;\n",
       "    }\n",
       "</style>\n",
       "<table border=\"1\" class=\"dataframe\">\n",
       "  <thead>\n",
       "    <tr style=\"text-align: right;\">\n",
       "      <th></th>\n",
       "      <th>case_title</th>\n",
       "      <th>case_description</th>\n",
       "      <th>required_roles</th>\n",
       "    </tr>\n",
       "  </thead>\n",
       "  <tbody>\n",
       "    <tr>\n",
       "      <th>0</th>\n",
       "      <td>Мультимодальный поиск по изображениям</td>\n",
       "      <td>Проект \"Мультимодальный поиск по изображениям\"...</td>\n",
       "      <td>ML engineer, Python Backend, DevOps, CV engine...</td>\n",
       "    </tr>\n",
       "    <tr>\n",
       "      <th>1</th>\n",
       "      <td>Оптимальное распределение задач на основе псих...</td>\n",
       "      <td>Результат проекта: Чат-бот, способный распреде...</td>\n",
       "      <td>ML engineer, Python Backend, Аналитик, Дизайне...</td>\n",
       "    </tr>\n",
       "    <tr>\n",
       "      <th>2</th>\n",
       "      <td>БАМ</td>\n",
       "      <td>Определение контура железной дороги БАМ на сп...</td>\n",
       "      <td>ML engineer, CV engineer, Python Backend, Тест...</td>\n",
       "    </tr>\n",
       "    <tr>\n",
       "      <th>3</th>\n",
       "      <td>Система автоматического анализа электронного д...</td>\n",
       "      <td>Требования: для анализа входящих неформазиован...</td>\n",
       "      <td>ML engineer, Python Backend, Тестировщик, Анал...</td>\n",
       "    </tr>\n",
       "    <tr>\n",
       "      <th>4</th>\n",
       "      <td>Анализ новостей для предсказания движения акци...</td>\n",
       "      <td>#### Цель Проекта\\n\\nРазработать систему анали...</td>\n",
       "      <td>ML engineer, Python Backend, Аналитик, Дизайне...</td>\n",
       "    </tr>\n",
       "  </tbody>\n",
       "</table>\n",
       "</div>"
      ],
      "text/plain": [
       "                                          case_title  \\\n",
       "0              Мультимодальный поиск по изображениям   \n",
       "1  Оптимальное распределение задач на основе псих...   \n",
       "2                                                БАМ   \n",
       "3  Система автоматического анализа электронного д...   \n",
       "4  Анализ новостей для предсказания движения акци...   \n",
       "\n",
       "                                    case_description  \\\n",
       "0  Проект \"Мультимодальный поиск по изображениям\"...   \n",
       "1  Результат проекта: Чат-бот, способный распреде...   \n",
       "2  Определение контура железной дороги БАМ на сп...   \n",
       "3  Требования: для анализа входящих неформазиован...   \n",
       "4  #### Цель Проекта\\n\\nРазработать систему анали...   \n",
       "\n",
       "                                      required_roles  \n",
       "0  ML engineer, Python Backend, DevOps, CV engine...  \n",
       "1  ML engineer, Python Backend, Аналитик, Дизайне...  \n",
       "2  ML engineer, CV engineer, Python Backend, Тест...  \n",
       "3  ML engineer, Python Backend, Тестировщик, Анал...  \n",
       "4  ML engineer, Python Backend, Аналитик, Дизайне...  "
      ]
     },
     "execution_count": 16,
     "metadata": {},
     "output_type": "execute_result"
    }
   ],
   "source": [
    "unique_cases.head()"
   ]
  },
  {
   "cell_type": "code",
   "execution_count": 17,
   "metadata": {},
   "outputs": [
    {
     "name": "stderr",
     "output_type": "stream",
     "text": [
      "/var/folders/3_/0zlq__wj47xg9llgg6qg6jzc0000gn/T/ipykernel_10613/453769300.py:1: SettingWithCopyWarning: \n",
      "A value is trying to be set on a copy of a slice from a DataFrame\n",
      "\n",
      "See the caveats in the documentation: https://pandas.pydata.org/pandas-docs/stable/user_guide/indexing.html#returning-a-view-versus-a-copy\n",
      "  df_cleaned.rename(columns={\"topic_title\": \"case_title\", \"topic_description\": \"case_description\"}, inplace=True)\n"
     ]
    }
   ],
   "source": [
    "df_cleaned.rename(columns={\"topic_title\": \"case_title\", \"topic_description\": \"case_description\"}, inplace=True)"
   ]
  },
  {
   "cell_type": "code",
   "execution_count": 18,
   "metadata": {},
   "outputs": [
    {
     "data": {
      "text/html": [
       "<div>\n",
       "<style scoped>\n",
       "    .dataframe tbody tr th:only-of-type {\n",
       "        vertical-align: middle;\n",
       "    }\n",
       "\n",
       "    .dataframe tbody tr th {\n",
       "        vertical-align: top;\n",
       "    }\n",
       "\n",
       "    .dataframe thead th {\n",
       "        text-align: right;\n",
       "    }\n",
       "</style>\n",
       "<table border=\"1\" class=\"dataframe\">\n",
       "  <thead>\n",
       "    <tr style=\"text-align: right;\">\n",
       "      <th></th>\n",
       "      <th>team_id</th>\n",
       "      <th>team_title</th>\n",
       "      <th>case_title</th>\n",
       "      <th>case_description</th>\n",
       "      <th>user_fio</th>\n",
       "      <th>skills</th>\n",
       "    </tr>\n",
       "  </thead>\n",
       "  <tbody>\n",
       "    <tr>\n",
       "      <th>0</th>\n",
       "      <td>81</td>\n",
       "      <td>10pandas</td>\n",
       "      <td>Мультимодальный поиск по изображениям</td>\n",
       "      <td>Проект \"Мультимодальный поиск по изображениям\"...</td>\n",
       "      <td>Додин Даниил Дмитриевич</td>\n",
       "      <td>NaN</td>\n",
       "    </tr>\n",
       "    <tr>\n",
       "      <th>1</th>\n",
       "      <td>81</td>\n",
       "      <td>10pandas</td>\n",
       "      <td>Мультимодальный поиск по изображениям</td>\n",
       "      <td>Проект \"Мультимодальный поиск по изображениям\"...</td>\n",
       "      <td>Хижний Никита Александрович</td>\n",
       "      <td>Data Science, Computer Vision, Confluence, Dat...</td>\n",
       "    </tr>\n",
       "    <tr>\n",
       "      <th>2</th>\n",
       "      <td>81</td>\n",
       "      <td>10pandas</td>\n",
       "      <td>Мультимодальный поиск по изображениям</td>\n",
       "      <td>Проект \"Мультимодальный поиск по изображениям\"...</td>\n",
       "      <td>Папуашвили Георгий Давидович</td>\n",
       "      <td>С++, AirFlow, Computer Vision, Confluence, Dat...</td>\n",
       "    </tr>\n",
       "    <tr>\n",
       "      <th>3</th>\n",
       "      <td>81</td>\n",
       "      <td>10pandas</td>\n",
       "      <td>Мультимодальный поиск по изображениям</td>\n",
       "      <td>Проект \"Мультимодальный поиск по изображениям\"...</td>\n",
       "      <td>Коробов Максим Евгеньевич</td>\n",
       "      <td>С++, Computer Vision, Excel, Git, Go, Jupyter,...</td>\n",
       "    </tr>\n",
       "    <tr>\n",
       "      <th>4</th>\n",
       "      <td>81</td>\n",
       "      <td>10pandas</td>\n",
       "      <td>Мультимодальный поиск по изображениям</td>\n",
       "      <td>Проект \"Мультимодальный поиск по изображениям\"...</td>\n",
       "      <td>Назербаев Руслан Бахтиярович</td>\n",
       "      <td>Back-end разработка, С, CSS, Django, Front-end...</td>\n",
       "    </tr>\n",
       "  </tbody>\n",
       "</table>\n",
       "</div>"
      ],
      "text/plain": [
       "   team_id team_title                             case_title  \\\n",
       "0       81   10pandas  Мультимодальный поиск по изображениям   \n",
       "1       81   10pandas  Мультимодальный поиск по изображениям   \n",
       "2       81   10pandas  Мультимодальный поиск по изображениям   \n",
       "3       81   10pandas  Мультимодальный поиск по изображениям   \n",
       "4       81   10pandas  Мультимодальный поиск по изображениям   \n",
       "\n",
       "                                    case_description  \\\n",
       "0  Проект \"Мультимодальный поиск по изображениям\"...   \n",
       "1  Проект \"Мультимодальный поиск по изображениям\"...   \n",
       "2  Проект \"Мультимодальный поиск по изображениям\"...   \n",
       "3  Проект \"Мультимодальный поиск по изображениям\"...   \n",
       "4  Проект \"Мультимодальный поиск по изображениям\"...   \n",
       "\n",
       "                       user_fio  \\\n",
       "0       Додин Даниил Дмитриевич   \n",
       "1   Хижний Никита Александрович   \n",
       "2  Папуашвили Георгий Давидович   \n",
       "3     Коробов Максим Евгеньевич   \n",
       "4  Назербаев Руслан Бахтиярович   \n",
       "\n",
       "                                              skills  \n",
       "0                                                NaN  \n",
       "1  Data Science, Computer Vision, Confluence, Dat...  \n",
       "2  С++, AirFlow, Computer Vision, Confluence, Dat...  \n",
       "3  С++, Computer Vision, Excel, Git, Go, Jupyter,...  \n",
       "4  Back-end разработка, С, CSS, Django, Front-end...  "
      ]
     },
     "execution_count": 18,
     "metadata": {},
     "output_type": "execute_result"
    }
   ],
   "source": [
    "df_cleaned.head()"
   ]
  },
  {
   "cell_type": "code",
   "execution_count": null,
   "metadata": {},
   "outputs": [],
   "source": [
    "df_cleaned = df_cleaned.merge(unique_cases[['case_title', 'required_roles']], on='case_title', how='left')"
   ]
  },
  {
   "cell_type": "code",
   "execution_count": 47,
   "metadata": {},
   "outputs": [
    {
     "data": {
      "text/plain": [
       "(2051, 7)"
      ]
     },
     "execution_count": 47,
     "metadata": {},
     "output_type": "execute_result"
    }
   ],
   "source": [
    "df_cleaned.shape"
   ]
  },
  {
   "cell_type": "code",
   "execution_count": 49,
   "metadata": {},
   "outputs": [],
   "source": [
    "filtered_df = df_cleaned[df_cleaned['case_title'].isin(unique_cases['case_title'])]"
   ]
  },
  {
   "cell_type": "code",
   "execution_count": 53,
   "metadata": {},
   "outputs": [],
   "source": [
    "filtered_df.to_csv('historical_data_with_roles.csv', index=False)"
   ]
  }
 ],
 "metadata": {
  "kernelspec": {
   "display_name": "dpp-recs",
   "language": "python",
   "name": "python3"
  },
  "language_info": {
   "codemirror_mode": {
    "name": "ipython",
    "version": 3
   },
   "file_extension": ".py",
   "mimetype": "text/x-python",
   "name": "python",
   "nbconvert_exporter": "python",
   "pygments_lexer": "ipython3",
   "version": "3.11.9"
  }
 },
 "nbformat": 4,
 "nbformat_minor": 2
}
